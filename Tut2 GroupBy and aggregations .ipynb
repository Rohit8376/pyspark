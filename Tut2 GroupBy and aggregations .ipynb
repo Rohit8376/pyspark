{
 "cells": [
  {
   "cell_type": "markdown",
   "id": "6d9272c0",
   "metadata": {},
   "source": [
    "## Pyspark group by and aggregations functions \n"
   ]
  },
  {
   "cell_type": "code",
   "execution_count": 1,
   "id": "a479e5e8",
   "metadata": {},
   "outputs": [],
   "source": [
    "from pyspark.sql import SparkSession\n"
   ]
  },
  {
   "cell_type": "code",
   "execution_count": 3,
   "id": "3192ef38",
   "metadata": {},
   "outputs": [],
   "source": [
    "spark = SparkSession.builder.appName('GroupBYaggregatesession').getOrCreate()"
   ]
  },
  {
   "cell_type": "code",
   "execution_count": 4,
   "id": "e321ea09",
   "metadata": {},
   "outputs": [],
   "source": [
    "spark_df = spark.read.csv('data5.csv', header=True,inferSchema=True)"
   ]
  },
  {
   "cell_type": "code",
   "execution_count": 6,
   "id": "80781109",
   "metadata": {},
   "outputs": [
    {
     "name": "stdout",
     "output_type": "stream",
     "text": [
      "+---------+------------+-------+\n",
      "|     Name|  Department| Salary|\n",
      "+---------+------------+-------+\n",
      "|    rohit|Data Science|  25000|\n",
      "|   sachin|         IOT|  20000|\n",
      "|   shivam|    Big Data|  20000|\n",
      "|sudhandhu|    Big Data|1000000|\n",
      "|    priya|Data Science| 800000|\n",
      "|    shyam|Data Science| 100000|\n",
      "|    rohit|         IOT|   5000|\n",
      "|    rohit|    Big Data|  15000|\n",
      "|    priya|         IOT| 800000|\n",
      "+---------+------------+-------+\n",
      "\n"
     ]
    }
   ],
   "source": [
    "spark_df.show()"
   ]
  },
  {
   "cell_type": "code",
   "execution_count": 10,
   "id": "befdfe4c",
   "metadata": {},
   "outputs": [
    {
     "name": "stdout",
     "output_type": "stream",
     "text": [
      "+---------+-----------+\n",
      "|     Name|sum(Salary)|\n",
      "+---------+-----------+\n",
      "|   shivam|      20000|\n",
      "|sudhandhu|    1000000|\n",
      "|    rohit|      45000|\n",
      "|    priya|    1600000|\n",
      "|    shyam|     100000|\n",
      "|   sachin|      20000|\n",
      "+---------+-----------+\n",
      "\n"
     ]
    }
   ],
   "source": [
    "# group by oprations \n",
    "spark_df.groupBy('Name') # it will return groupData and specific memory locations \n",
    "\n",
    "# groupBy aggregate funcions works together \n",
    "\n",
    "spark_df.groupBy('Name').sum().show() # it will return sum of salary of all grouped people \n"
   ]
  },
  {
   "cell_type": "code",
   "execution_count": 17,
   "id": "2205c919",
   "metadata": {},
   "outputs": [
    {
     "name": "stdout",
     "output_type": "stream",
     "text": [
      "+------------+-----------+\n",
      "|  Department|sum(Salary)|\n",
      "+------------+-----------+\n",
      "|         IOT|     825000|\n",
      "|    Big Data|    1035000|\n",
      "|Data Science|     925000|\n",
      "+------------+-----------+\n",
      "\n",
      "+------------+-----+\n",
      "|  Department|count|\n",
      "+------------+-----+\n",
      "|         IOT|    3|\n",
      "|    Big Data|    3|\n",
      "|Data Science|    3|\n",
      "+------------+-----+\n",
      "\n",
      "+------------+-----------------+\n",
      "|  Department|      avg(Salary)|\n",
      "+------------+-----------------+\n",
      "|         IOT|         275000.0|\n",
      "|    Big Data|         345000.0|\n",
      "|Data Science|308333.3333333333|\n",
      "+------------+-----------------+\n",
      "\n",
      "+---------+-----------+\n",
      "|     Name|max(Salary)|\n",
      "+---------+-----------+\n",
      "|   shivam|      20000|\n",
      "|sudhandhu|    1000000|\n",
      "|    rohit|      25000|\n",
      "|    priya|     800000|\n",
      "|    shyam|     100000|\n",
      "|   sachin|      20000|\n",
      "+---------+-----------+\n",
      "\n"
     ]
    }
   ],
   "source": [
    "# department having maximum salary\n",
    "\n",
    "spark_df.groupBy('Department').sum().show()\n",
    "\n",
    "# number of employee in each department\n",
    "spark_df.groupBy('Department').count().show()\n",
    "\n",
    "# mean salary of each department based on number of  of employee in each department\n",
    "spark_df.groupBy('Department').mean().show()\n",
    "\n",
    "# maximum salary of each person in all department \n",
    "spark_df.groupBy('Name').max().show()\n"
   ]
  },
  {
   "cell_type": "code",
   "execution_count": null,
   "id": "da61efa6",
   "metadata": {},
   "outputs": [],
   "source": []
  },
  {
   "cell_type": "code",
   "execution_count": 14,
   "id": "69bd57b9",
   "metadata": {},
   "outputs": [],
   "source": [
    "# Example of direct aggregate \n"
   ]
  },
  {
   "cell_type": "code",
   "execution_count": 16,
   "id": "0d65772b",
   "metadata": {},
   "outputs": [
    {
     "name": "stdout",
     "output_type": "stream",
     "text": [
      "+-----------+\n",
      "|sum(salary)|\n",
      "+-----------+\n",
      "|    2785000|\n",
      "+-----------+\n",
      "\n"
     ]
    }
   ],
   "source": [
    "spark_df.agg({'salary':'sum'}).show()"
   ]
  },
  {
   "cell_type": "code",
   "execution_count": null,
   "id": "011cc3b5",
   "metadata": {},
   "outputs": [],
   "source": []
  }
 ],
 "metadata": {
  "kernelspec": {
   "display_name": "Python 3 (ipykernel)",
   "language": "python",
   "name": "python3"
  },
  "language_info": {
   "codemirror_mode": {
    "name": "ipython",
    "version": 3
   },
   "file_extension": ".py",
   "mimetype": "text/x-python",
   "name": "python",
   "nbconvert_exporter": "python",
   "pygments_lexer": "ipython3",
   "version": "3.7.9"
  }
 },
 "nbformat": 4,
 "nbformat_minor": 5
}
